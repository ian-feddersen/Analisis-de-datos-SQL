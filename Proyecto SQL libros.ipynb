{
 "cells": [
  {
   "cell_type": "markdown",
   "metadata": {},
   "source": [
    "# Proyecto SQL: Análisis del Mercado de Libros\n",
    "\n",
    "## 1. Objetivos del Proyecto\n",
    "\n",
    "Este proyecto busca analizar datos relacionados con libros, editoriales, autores, calificaciones y reseñas para generar propuestas de valor para un nuevo producto en el mercado de aplicaciones para amantes de los libros. Los objetivos específicos son:\n",
    "\n",
    "1. **Encontrar el número de libros publicados después del 1 de enero de 2000.**\n",
    "2. **Determinar el número de reseñas de usuarios y la calificación promedio para cada libro.**\n",
    "3. **Identificar la editorial que ha publicado el mayor número de libros con más de 50 páginas.**\n",
    "4. **Identificar al autor con la más alta calificación promedio de libros (considerando solo libros con al menos 50 calificaciones).**\n",
    "5. **Encontrar el número promedio de reseñas de texto entre los usuarios que calificaron más de 50 libros.**\n"
   ]
  },
  {
   "cell_type": "markdown",
   "metadata": {},
   "source": [
    "### Codigo para conectarse a la base de datos:"
   ]
  },
  {
   "cell_type": "code",
   "execution_count": 1,
   "metadata": {},
   "outputs": [],
   "source": [
    "import pandas as pd\n",
    "from sqlalchemy import create_engine\n",
    "\n",
    "db_config = {\n",
    "    'user': 'practicum_student', \n",
    "    'pwd': 'QnmDH8Sc2TQLvy2G3Vvh7',\n",
    "    'host': 'yp-trainers-practicum.cluster-czs0gxyx2d8w.us-east-1.rds.amazonaws.com',\n",
    "    'port': 5432,\n",
    "    'db': 'data-analyst-final-project-db'\n",
    "}\n",
    "\n",
    "connection_string = 'postgresql://{}:{}@{}:{}/{}'.format(\n",
    "    db_config['user'],\n",
    "    db_config['pwd'],\n",
    "    db_config['host'],\n",
    "    db_config['port'],\n",
    "    db_config['db']\n",
    ")\n",
    "\n",
    "engine = create_engine(connection_string, connect_args={'sslmode': 'require'})\n"
   ]
  },
  {
   "cell_type": "markdown",
   "metadata": {},
   "source": [
    "### Paso 1: Ver las primeras filas de cada tabla\n",
    "\n"
   ]
  },
  {
   "cell_type": "code",
   "execution_count": 2,
   "metadata": {},
   "outputs": [
    {
     "name": "stdout",
     "output_type": "stream",
     "text": [
      "Tabla: books\n",
      "   book_id  author_id                                              title  \\\n",
      "0        1        546                                       'Salem's Lot   \n",
      "1        2        465                 1 000 Places to See Before You Die   \n",
      "2        3        407  13 Little Blue Envelopes (Little Blue Envelope...   \n",
      "3        4         82  1491: New Revelations of the Americas Before C...   \n",
      "4        5        125                                               1776   \n",
      "\n",
      "   num_pages publication_date  publisher_id  \n",
      "0        594       2005-11-01            93  \n",
      "1        992       2003-05-22           336  \n",
      "2        322       2010-12-21           135  \n",
      "3        541       2006-10-10           309  \n",
      "4        386       2006-07-04           268  \n",
      "Tabla: authors\n",
      "   author_id                          author\n",
      "0          1                      A.S. Byatt\n",
      "1          2  Aesop/Laura Harris/Laura Gibbs\n",
      "2          3                 Agatha Christie\n",
      "3          4                   Alan Brennert\n",
      "4          5        Alan Moore/David   Lloyd\n",
      "Tabla: publishers\n",
      "   publisher_id                          publisher\n",
      "0             1                                Ace\n",
      "1             2                           Ace Book\n",
      "2             3                          Ace Books\n",
      "3             4                      Ace Hardcover\n",
      "4             5  Addison Wesley Publishing Company\n",
      "Tabla: ratings\n",
      "   rating_id  book_id       username  rating\n",
      "0          1        1     ryanfranco       4\n",
      "1          2        1  grantpatricia       2\n",
      "2          3        1   brandtandrea       5\n",
      "3          4        2       lorichen       3\n",
      "4          5        2    mariokeller       2\n",
      "Tabla: reviews\n",
      "   review_id  book_id       username  \\\n",
      "0          1        1   brandtandrea   \n",
      "1          2        1     ryanfranco   \n",
      "2          3        2       lorichen   \n",
      "3          4        3  johnsonamanda   \n",
      "4          5        3    scotttamara   \n",
      "\n",
      "                                                text  \n",
      "0  Mention society tell send professor analysis. ...  \n",
      "1  Foot glass pretty audience hit themselves. Amo...  \n",
      "2  Listen treat keep worry. Miss husband tax but ...  \n",
      "3  Finally month interesting blue could nature cu...  \n",
      "4  Nation purpose heavy give wait song will. List...  \n"
     ]
    }
   ],
   "source": [
    "tables = ['books', 'authors', 'publishers', 'ratings', 'reviews']\n",
    "for table in tables:\n",
    "    query = f\"SELECT * FROM {table} LIMIT 5;\"\n",
    "    df = pd.io.sql.read_sql(query, con=engine)\n",
    "    print(f\"Tabla: {table}\")\n",
    "    print(df)\n"
   ]
  },
  {
   "cell_type": "markdown",
   "metadata": {},
   "source": [
    "#### **1.2 Paso 1: Ver las primeras filas de cada tabla**\n",
    "\n",
    "- **Tabla `books`:** La tabla `books` contiene información importante sobre los libros, incluyendo el `book_id`, `author_id`, `title`, `num_pages`, `publication_date`, y `publisher_id`. Esta tabla es esencial para realizar el análisis de los libros, ya que proporciona detalles clave sobre cada libro, como el título y el número de páginas.\n",
    "  \n",
    "- **Tabla `authors`:** La tabla `authors` nos da el `author_id` y el nombre del autor. Esto nos permite vincular los libros a sus respectivos autores, facilitando el análisis de la relación entre los libros y sus creadores.\n",
    "\n",
    "- **Tabla `publishers`:** La tabla `publishers` contiene información sobre las editoriales, incluyendo el `publisher_id` y el nombre de la editorial. Esta información es útil para identificar qué editoriales han publicado los libros.\n",
    "\n",
    "- **Tabla `ratings`:** La tabla `ratings` nos permite ver las calificaciones de los libros realizadas por los usuarios. Los campos relevantes incluyen el `rating_id`, `book_id`, `username`, y `rating`, lo que facilita el análisis de las calificaciones recibidas por cada libro.\n",
    "\n",
    "- **Tabla `reviews`:** La tabla `reviews` contiene las reseñas de los libros, con el `review_id`, `book_id`, `username`, y `text` de cada reseña. Esto es importante para evaluar la interacción de los usuarios con los libros a través de sus comentarios escritos."
   ]
  },
  {
   "cell_type": "markdown",
   "metadata": {},
   "source": [
    "### Paso 2: Ejercicio 1 - Libros publicados después del 1 de enero de 2000\n",
    "\n",
    "Ejecutar una consulta SQL para obtener el número de libros publicados después de la fecha indicada:"
   ]
  },
  {
   "cell_type": "code",
   "execution_count": 3,
   "metadata": {},
   "outputs": [
    {
     "data": {
      "text/html": [
       "<div>\n",
       "<style scoped>\n",
       "    .dataframe tbody tr th:only-of-type {\n",
       "        vertical-align: middle;\n",
       "    }\n",
       "\n",
       "    .dataframe tbody tr th {\n",
       "        vertical-align: top;\n",
       "    }\n",
       "\n",
       "    .dataframe thead th {\n",
       "        text-align: right;\n",
       "    }\n",
       "</style>\n",
       "<table border=\"1\" class=\"dataframe\">\n",
       "  <thead>\n",
       "    <tr style=\"text-align: right;\">\n",
       "      <th></th>\n",
       "      <th>books_after_2000</th>\n",
       "    </tr>\n",
       "  </thead>\n",
       "  <tbody>\n",
       "    <tr>\n",
       "      <th>0</th>\n",
       "      <td>819</td>\n",
       "    </tr>\n",
       "  </tbody>\n",
       "</table>\n",
       "</div>"
      ],
      "text/plain": [
       "   books_after_2000\n",
       "0               819"
      ]
     },
     "metadata": {},
     "output_type": "display_data"
    }
   ],
   "source": [
    "query_1 = '''\n",
    "SELECT COUNT(book_id) AS books_after_2000\n",
    "FROM books\n",
    "WHERE publication_date > '2000-01-01';\n",
    "'''\n",
    "\n",
    "result_1 = pd.io.sql.read_sql(query_1, con=engine)\n",
    "display(result_1)\n"
   ]
  },
  {
   "cell_type": "markdown",
   "metadata": {},
   "source": [
    "#### **1.3 Paso 2: Ejercicio 1 - Libros Publicados Después del 1 de Enero de 2000**\n",
    "\n",
    "- **Resultado:** Se encontraron **819 libros** que fueron publicados después del 1 de enero de 2000.\n",
    "  \n",
    "  **Conclusión:** Un número significativo de libros han sido publicados después del año 2000, lo que refleja un mercado activo y en crecimiento. Esta tendencia puede indicar un aumento en la demanda de nuevos títulos en el mercado, lo que podría ser relevante para un producto o aplicación orientada a amantes de los libros.\n"
   ]
  },
  {
   "cell_type": "markdown",
   "metadata": {},
   "source": [
    "### Paso 3: Ejercicio 2 - Número de reseñas de usuarios y calificación promedio por libro\n",
    "\n",
    "Consulta para analizar las reseñas de los usuarios y las calificaciones promedio:"
   ]
  },
  {
   "cell_type": "code",
   "execution_count": 4,
   "metadata": {},
   "outputs": [
    {
     "data": {
      "text/html": [
       "<div>\n",
       "<style scoped>\n",
       "    .dataframe tbody tr th:only-of-type {\n",
       "        vertical-align: middle;\n",
       "    }\n",
       "\n",
       "    .dataframe tbody tr th {\n",
       "        vertical-align: top;\n",
       "    }\n",
       "\n",
       "    .dataframe thead th {\n",
       "        text-align: right;\n",
       "    }\n",
       "</style>\n",
       "<table border=\"1\" class=\"dataframe\">\n",
       "  <thead>\n",
       "    <tr style=\"text-align: right;\">\n",
       "      <th></th>\n",
       "      <th>book_id</th>\n",
       "      <th>title</th>\n",
       "      <th>num_reviews</th>\n",
       "      <th>avg_rating</th>\n",
       "    </tr>\n",
       "  </thead>\n",
       "  <tbody>\n",
       "    <tr>\n",
       "      <th>0</th>\n",
       "      <td>948</td>\n",
       "      <td>Twilight (Twilight  #1)</td>\n",
       "      <td>1120</td>\n",
       "      <td>3.66</td>\n",
       "    </tr>\n",
       "    <tr>\n",
       "      <th>1</th>\n",
       "      <td>750</td>\n",
       "      <td>The Hobbit  or There and Back Again</td>\n",
       "      <td>528</td>\n",
       "      <td>4.13</td>\n",
       "    </tr>\n",
       "    <tr>\n",
       "      <th>2</th>\n",
       "      <td>673</td>\n",
       "      <td>The Catcher in the Rye</td>\n",
       "      <td>516</td>\n",
       "      <td>3.83</td>\n",
       "    </tr>\n",
       "    <tr>\n",
       "      <th>3</th>\n",
       "      <td>302</td>\n",
       "      <td>Harry Potter and the Prisoner of Azkaban (Harr...</td>\n",
       "      <td>492</td>\n",
       "      <td>4.41</td>\n",
       "    </tr>\n",
       "    <tr>\n",
       "      <th>4</th>\n",
       "      <td>299</td>\n",
       "      <td>Harry Potter and the Chamber of Secrets (Harry...</td>\n",
       "      <td>480</td>\n",
       "      <td>4.29</td>\n",
       "    </tr>\n",
       "    <tr>\n",
       "      <th>...</th>\n",
       "      <td>...</td>\n",
       "      <td>...</td>\n",
       "      <td>...</td>\n",
       "      <td>...</td>\n",
       "    </tr>\n",
       "    <tr>\n",
       "      <th>995</th>\n",
       "      <td>221</td>\n",
       "      <td>Essential Tales and Poems</td>\n",
       "      <td>0</td>\n",
       "      <td>4.00</td>\n",
       "    </tr>\n",
       "    <tr>\n",
       "      <th>996</th>\n",
       "      <td>808</td>\n",
       "      <td>The Natural Way to Draw</td>\n",
       "      <td>0</td>\n",
       "      <td>3.00</td>\n",
       "    </tr>\n",
       "    <tr>\n",
       "      <th>997</th>\n",
       "      <td>191</td>\n",
       "      <td>Disney's Beauty and the Beast (A Little Golden...</td>\n",
       "      <td>0</td>\n",
       "      <td>4.00</td>\n",
       "    </tr>\n",
       "    <tr>\n",
       "      <th>998</th>\n",
       "      <td>83</td>\n",
       "      <td>Anne Rice's The Vampire Lestat: A Graphic Novel</td>\n",
       "      <td>0</td>\n",
       "      <td>3.67</td>\n",
       "    </tr>\n",
       "    <tr>\n",
       "      <th>999</th>\n",
       "      <td>672</td>\n",
       "      <td>The Cat in the Hat and Other Dr. Seuss Favorites</td>\n",
       "      <td>0</td>\n",
       "      <td>5.00</td>\n",
       "    </tr>\n",
       "  </tbody>\n",
       "</table>\n",
       "<p>1000 rows × 4 columns</p>\n",
       "</div>"
      ],
      "text/plain": [
       "     book_id                                              title  num_reviews  \\\n",
       "0        948                            Twilight (Twilight  #1)         1120   \n",
       "1        750                The Hobbit  or There and Back Again          528   \n",
       "2        673                             The Catcher in the Rye          516   \n",
       "3        302  Harry Potter and the Prisoner of Azkaban (Harr...          492   \n",
       "4        299  Harry Potter and the Chamber of Secrets (Harry...          480   \n",
       "..       ...                                                ...          ...   \n",
       "995      221                          Essential Tales and Poems            0   \n",
       "996      808                            The Natural Way to Draw            0   \n",
       "997      191  Disney's Beauty and the Beast (A Little Golden...            0   \n",
       "998       83    Anne Rice's The Vampire Lestat: A Graphic Novel            0   \n",
       "999      672   The Cat in the Hat and Other Dr. Seuss Favorites            0   \n",
       "\n",
       "     avg_rating  \n",
       "0          3.66  \n",
       "1          4.13  \n",
       "2          3.83  \n",
       "3          4.41  \n",
       "4          4.29  \n",
       "..          ...  \n",
       "995        4.00  \n",
       "996        3.00  \n",
       "997        4.00  \n",
       "998        3.67  \n",
       "999        5.00  \n",
       "\n",
       "[1000 rows x 4 columns]"
      ]
     },
     "metadata": {},
     "output_type": "display_data"
    }
   ],
   "source": [
    "query_2 = '''\n",
    "SELECT\n",
    "    books.book_id,\n",
    "    books.title,\n",
    "    COUNT(reviews.review_id) AS num_reviews,\n",
    "    ROUND(AVG(ratings.rating), 2) AS avg_rating\n",
    "FROM books\n",
    "LEFT JOIN reviews ON books.book_id = reviews.book_id\n",
    "LEFT JOIN ratings ON books.book_id = ratings.book_id\n",
    "GROUP BY books.book_id, books.title\n",
    "ORDER BY num_reviews DESC;\n",
    "'''\n",
    "\n",
    "result_2 = pd.io.sql.read_sql(query_2, con=engine)\n",
    "display(result_2)\n"
   ]
  },
  {
   "cell_type": "markdown",
   "metadata": {},
   "source": [
    "  **Conclusión:** Los libros más populares (como \"Twilight\" y \"Harry Potter\") tienen un alto número de reseñas, lo que indica una gran interacción de los lectores con estos títulos. Además, los libros con mayor número de reseñas tienden a tener una calificación promedio sólida, lo que refleja una valoración positiva por parte de los usuarios.\n"
   ]
  },
  {
   "cell_type": "markdown",
   "metadata": {},
   "source": [
    "### Paso 4: Ejercicio 3 - Editorial con mayor número de libros (más de 50 páginas)\n",
    "\n",
    "Consulta para encontrar la editorial con más libros de más de 50 páginas:"
   ]
  },
  {
   "cell_type": "code",
   "execution_count": 5,
   "metadata": {},
   "outputs": [
    {
     "data": {
      "text/html": [
       "<div>\n",
       "<style scoped>\n",
       "    .dataframe tbody tr th:only-of-type {\n",
       "        vertical-align: middle;\n",
       "    }\n",
       "\n",
       "    .dataframe tbody tr th {\n",
       "        vertical-align: top;\n",
       "    }\n",
       "\n",
       "    .dataframe thead th {\n",
       "        text-align: right;\n",
       "    }\n",
       "</style>\n",
       "<table border=\"1\" class=\"dataframe\">\n",
       "  <thead>\n",
       "    <tr style=\"text-align: right;\">\n",
       "      <th></th>\n",
       "      <th>publisher</th>\n",
       "      <th>num_books</th>\n",
       "    </tr>\n",
       "  </thead>\n",
       "  <tbody>\n",
       "    <tr>\n",
       "      <th>0</th>\n",
       "      <td>Penguin Books</td>\n",
       "      <td>42</td>\n",
       "    </tr>\n",
       "  </tbody>\n",
       "</table>\n",
       "</div>"
      ],
      "text/plain": [
       "       publisher  num_books\n",
       "0  Penguin Books         42"
      ]
     },
     "metadata": {},
     "output_type": "display_data"
    }
   ],
   "source": [
    "query_3 = '''\n",
    "SELECT\n",
    "    publishers.publisher,\n",
    "    COUNT(books.book_id) AS num_books\n",
    "FROM books\n",
    "JOIN publishers ON books.publisher_id = publishers.publisher_id\n",
    "WHERE books.num_pages > 50\n",
    "GROUP BY publishers.publisher\n",
    "ORDER BY num_books DESC\n",
    "LIMIT 1;\n",
    "'''\n",
    "\n",
    "result_3 = pd.io.sql.read_sql(query_3, con=engine)\n",
    "display(result_3)\n"
   ]
  },
  {
   "cell_type": "markdown",
   "metadata": {},
   "source": [
    "#### **1.5 Paso 4: Ejercicio 3 - Editorial con Mayor Número de Libros (Más de 50 Páginas)**\n",
    "\n",
    "- **Resultado:** La editorial con más libros de más de 50 páginas es **Penguin Books** con **42 libros** publicados.\n",
    "\n",
    "  **Conclusión:** Penguin Books es una editorial importante en el mercado de libros, con una gran cantidad de títulos que cumplen con el criterio de tener más de 50 páginas. Esto refleja su presencia dominante en el mercado de libros más largos y, posiblemente, más detallados o complejos.\n"
   ]
  },
  {
   "cell_type": "markdown",
   "metadata": {},
   "source": [
    "### Ejercicio 4: Autor con la Más Alta Calificación Promedio (Libros con al menos 50 Calificaciones)\n",
    "\n",
    "Objetivo:\n",
    "\n",
    "Identificar al autor que tiene la calificación promedio más alta, pero solo para los libros que tienen al menos 50 calificaciones. Este ejercicio es importante para encontrar a los autores cuyos libros han sido más apreciados por los lectores."
   ]
  },
  {
   "cell_type": "code",
   "execution_count": 6,
   "metadata": {},
   "outputs": [
    {
     "data": {
      "text/html": [
       "<div>\n",
       "<style scoped>\n",
       "    .dataframe tbody tr th:only-of-type {\n",
       "        vertical-align: middle;\n",
       "    }\n",
       "\n",
       "    .dataframe tbody tr th {\n",
       "        vertical-align: top;\n",
       "    }\n",
       "\n",
       "    .dataframe thead th {\n",
       "        text-align: right;\n",
       "    }\n",
       "</style>\n",
       "<table border=\"1\" class=\"dataframe\">\n",
       "  <thead>\n",
       "    <tr style=\"text-align: right;\">\n",
       "      <th></th>\n",
       "      <th>author</th>\n",
       "      <th>avg_rating</th>\n",
       "    </tr>\n",
       "  </thead>\n",
       "  <tbody>\n",
       "    <tr>\n",
       "      <th>0</th>\n",
       "      <td>Diana Gabaldon</td>\n",
       "      <td>4.3</td>\n",
       "    </tr>\n",
       "  </tbody>\n",
       "</table>\n",
       "</div>"
      ],
      "text/plain": [
       "           author  avg_rating\n",
       "0  Diana Gabaldon         4.3"
      ]
     },
     "metadata": {},
     "output_type": "display_data"
    }
   ],
   "source": [
    "query_4 = '''\n",
    "SELECT\n",
    "    authors.author,\n",
    "    ROUND(AVG(ratings.rating), 2) AS avg_rating\n",
    "FROM books\n",
    "JOIN authors ON books.author_id = authors.author_id\n",
    "JOIN ratings ON books.book_id = ratings.book_id\n",
    "GROUP BY authors.author\n",
    "HAVING COUNT(ratings.rating) >= 50\n",
    "ORDER BY avg_rating DESC\n",
    "LIMIT 1;\n",
    "'''\n",
    "\n",
    "result_4 = pd.io.sql.read_sql(query_4, con=engine)\n",
    "display(result_4)\n"
   ]
  },
  {
   "cell_type": "code",
   "execution_count": 7,
   "metadata": {},
   "outputs": [
    {
     "data": {
      "text/html": [
       "<div>\n",
       "<style scoped>\n",
       "    .dataframe tbody tr th:only-of-type {\n",
       "        vertical-align: middle;\n",
       "    }\n",
       "\n",
       "    .dataframe tbody tr th {\n",
       "        vertical-align: top;\n",
       "    }\n",
       "\n",
       "    .dataframe thead th {\n",
       "        text-align: right;\n",
       "    }\n",
       "</style>\n",
       "<table border=\"1\" class=\"dataframe\">\n",
       "  <thead>\n",
       "    <tr style=\"text-align: right;\">\n",
       "      <th></th>\n",
       "      <th>author</th>\n",
       "      <th>avg_rating</th>\n",
       "    </tr>\n",
       "  </thead>\n",
       "  <tbody>\n",
       "    <tr>\n",
       "      <th>0</th>\n",
       "      <td>J.K. Rowling/Mary GrandPré</td>\n",
       "      <td>4.29</td>\n",
       "    </tr>\n",
       "  </tbody>\n",
       "</table>\n",
       "</div>"
      ],
      "text/plain": [
       "                       author  avg_rating\n",
       "0  J.K. Rowling/Mary GrandPré        4.29"
      ]
     },
     "metadata": {},
     "output_type": "display_data"
    }
   ],
   "source": [
    "query_4_updated = '''\n",
    "SELECT\n",
    "    authors.author,\n",
    "    ROUND(AVG(ratings.rating), 2) AS avg_rating\n",
    "FROM (\n",
    "    SELECT\n",
    "        ratings.book_id\n",
    "    FROM ratings\n",
    "    GROUP BY ratings.book_id\n",
    "    HAVING COUNT(ratings.rating_id) >= 50\n",
    ") AS filtered_books\n",
    "JOIN books ON filtered_books.book_id = books.book_id\n",
    "JOIN authors ON books.author_id = authors.author_id\n",
    "JOIN ratings ON books.book_id = ratings.book_id\n",
    "GROUP BY authors.author\n",
    "ORDER BY avg_rating DESC\n",
    "LIMIT 1;\n",
    "'''\n",
    "\n",
    "result_4_updated = pd.io.sql.read_sql(query_4_updated, con=engine)\n",
    "display(result_4_updated)\n"
   ]
  },
  {
   "cell_type": "markdown",
   "metadata": {},
   "source": [
    "#### **1.6 Ejercicio 4: Autor con la Más Alta Calificación Promedio (Libros con al menos 50 Calificaciones)**\n",
    "\n",
    "- **Resultado:** El autor con la calificación promedio más alta (para libros con al menos 50 calificaciones) es J.K. Rowling/Mary GrandPré, con una calificación promedio de 4.29. Autores de esta categoría representan una oportunidad clave para el desarrollo de productos enfocados en comunidades de fans leales y apasionados, quienes pueden ser receptivos a nuevas iniciativas, como aplicaciones o productos relacionados con su obra.\n",
    "\n",
    "  **Conclusión:** J.K. Rowling, en colaboración con Mary GrandPré, se destaca como un autor icónico que ha recibido consistentemente altas calificaciones por parte de los lectores. Autores de esta categoría representan una oportunidad clave para el desarrollo de productos enfocados en comunidades de fans leales y apasionados, quienes pueden ser receptivos a nuevas iniciativas, como aplicaciones o productos relacionados con su obra.\n"
   ]
  },
  {
   "cell_type": "markdown",
   "metadata": {},
   "source": [
    "### Ejercicio 5: Número Promedio de Reseñas de Texto entre Usuarios que Calificaron Más de 50 Libros\n",
    "\n",
    "Objetivo: \n",
    "\n",
    "Encontrar el número promedio de reseñas de texto que los usuarios han dejado para los libros que calificaron, pero solo para aquellos usuarios que han calificado más de 50 libros. Este ejercicio es importante para identificar los usuarios más activos que interactúan con los libros y dejar reseñas detalladas."
   ]
  },
  {
   "cell_type": "code",
   "execution_count": 8,
   "metadata": {},
   "outputs": [
    {
     "data": {
      "text/html": [
       "<div>\n",
       "<style scoped>\n",
       "    .dataframe tbody tr th:only-of-type {\n",
       "        vertical-align: middle;\n",
       "    }\n",
       "\n",
       "    .dataframe tbody tr th {\n",
       "        vertical-align: top;\n",
       "    }\n",
       "\n",
       "    .dataframe thead th {\n",
       "        text-align: right;\n",
       "    }\n",
       "</style>\n",
       "<table border=\"1\" class=\"dataframe\">\n",
       "  <thead>\n",
       "    <tr style=\"text-align: right;\">\n",
       "      <th></th>\n",
       "      <th>avg_reviews</th>\n",
       "    </tr>\n",
       "  </thead>\n",
       "  <tbody>\n",
       "    <tr>\n",
       "      <th>0</th>\n",
       "      <td>1.0</td>\n",
       "    </tr>\n",
       "  </tbody>\n",
       "</table>\n",
       "</div>"
      ],
      "text/plain": [
       "   avg_reviews\n",
       "0          1.0"
      ]
     },
     "metadata": {},
     "output_type": "display_data"
    }
   ],
   "source": [
    "query_5 = '''\n",
    "SELECT\n",
    "    ROUND(AVG(CASE WHEN reviews.text IS NOT NULL THEN 1 ELSE 0 END), 2) AS avg_reviews\n",
    "FROM ratings\n",
    "JOIN reviews ON ratings.book_id = reviews.book_id\n",
    "WHERE ratings.username IN (\n",
    "    SELECT username\n",
    "    FROM ratings\n",
    "    GROUP BY username\n",
    "    HAVING COUNT(ratings.book_id) > 50\n",
    ");\n",
    "'''\n",
    "\n",
    "result_5 = pd.io.sql.read_sql(query_5, con=engine)\n",
    "display(result_5)\n"
   ]
  },
  {
   "cell_type": "code",
   "execution_count": 9,
   "metadata": {},
   "outputs": [
    {
     "data": {
      "text/html": [
       "<div>\n",
       "<style scoped>\n",
       "    .dataframe tbody tr th:only-of-type {\n",
       "        vertical-align: middle;\n",
       "    }\n",
       "\n",
       "    .dataframe tbody tr th {\n",
       "        vertical-align: top;\n",
       "    }\n",
       "\n",
       "    .dataframe thead th {\n",
       "        text-align: right;\n",
       "    }\n",
       "</style>\n",
       "<table border=\"1\" class=\"dataframe\">\n",
       "  <thead>\n",
       "    <tr style=\"text-align: right;\">\n",
       "      <th></th>\n",
       "      <th>avg_reviews</th>\n",
       "    </tr>\n",
       "  </thead>\n",
       "  <tbody>\n",
       "    <tr>\n",
       "      <th>0</th>\n",
       "      <td>211.33</td>\n",
       "    </tr>\n",
       "  </tbody>\n",
       "</table>\n",
       "</div>"
      ],
      "text/plain": [
       "   avg_reviews\n",
       "0       211.33"
      ]
     },
     "metadata": {},
     "output_type": "display_data"
    }
   ],
   "source": [
    "query_5_updated = '''\n",
    "WITH active_users AS (\n",
    "    SELECT \n",
    "        username\n",
    "    FROM ratings\n",
    "    GROUP BY username\n",
    "    HAVING COUNT(book_id) > 50\n",
    "),\n",
    "user_reviews AS (\n",
    "    SELECT \n",
    "        ratings.username,\n",
    "        COUNT(reviews.review_id) AS total_reviews\n",
    "    FROM ratings\n",
    "    JOIN reviews ON ratings.book_id = reviews.book_id\n",
    "    WHERE ratings.username IN (SELECT username FROM active_users)\n",
    "    GROUP BY ratings.username\n",
    ")\n",
    "SELECT \n",
    "    ROUND(AVG(total_reviews), 2) AS avg_reviews\n",
    "FROM user_reviews;\n",
    "'''\n",
    "\n",
    "result_5_updated = pd.io.sql.read_sql(query_5_updated, con=engine)\n",
    "display(result_5_updated)\n"
   ]
  },
  {
   "cell_type": "markdown",
   "metadata": {},
   "source": [
    "#### **1.7.1 Ejercicio 5: Número Promedio de Reseñas de Texto entre Usuarios que Calificaron Más de 50 Libros**\n",
    "\n",
    "- **Resultado:** El número promedio de reseñas de texto dejadas por usuarios que calificaron más de 50 libros es de **211.33**.\n",
    "\n",
    "  **Conclusión:** Los usuarios que califican más de 50 libros muestran un nivel extraordinariamente alto de interacción, dejando en promedio más de 200 reseñas de texto. Este comportamiento refleja un fuerte compromiso con la comunidad y los títulos que califican. Identificar a estos usuarios altamente activos es crucial para diseñar estrategias que fomenten su fidelidad y potencien el contenido generado por los usuarios en la plataforma. Estos usuarios también pueden servir como embajadores clave para atraer y retener a nuevos lectores.\n"
   ]
  },
  {
   "cell_type": "markdown",
   "metadata": {},
   "source": [
    "## **Resumen General:**\n",
    "\n",
    "- **Tendencias en el mercado de libros:** Un número significativo de libros (819 títulos) han sido publicados después del 1 de enero de 2000, lo que refleja un mercado editorial activo y en constante expansión. Editoriales destacadas como Penguin Books lideran con una amplia variedad de publicaciones (42 libros con más de 50 páginas), consolidando su posición en el mercado. \n",
    "\n",
    "\n",
    "- **Interacción de los usuarios:** Los libros más populares, como Twilight con 1120 reseñas y una calificación promedio de 3.66, y The Hobbit con 528 reseñas y una calificación promedio de 4.13, muestran que ciertos títulos generan una gran cantidad de interacciones. Esto resalta el compromiso de la comunidad lectora con los títulos más reconocidos.\n",
    "\n",
    "\n",
    "- **Autores destacados:** Autoras como J.K. Rowling/Mary GrandPré lideran las calificaciones promedio más altas (4.29) para libros con al menos 50 reseñas, demostrando su relevancia y aprecio por parte de los lectores. Este tipo de autores representan oportunidades clave para maximizar la conexión con la audiencia.\n",
    "\n",
    "\n",
    "- **Comportamiento de los usuarios:** Los usuarios más activos, que calificaron más de 50 libros, dejan en promedio 211.33 reseñas de texto, un indicador de alto compromiso y participación en las plataformas. Este comportamiento puede ser aprovechado para potenciar el contenido generado por los usuarios y fomentar recomendaciones de libros más personalizadas.\n",
    "\n",
    "\n",
    "- **Conclusión General:** El mercado de libros muestra un dinamismo notable en las publicaciones recientes y un público lector altamente interactivo y comprometido. Autores reconocidos y editoriales prominentes tienen un impacto considerable en las tendencias del mercado. Además, el comportamiento de los usuarios más activos puede ser un recurso valioso para enriquecer las plataformas de reseñas y fortalecer la relación entre lectores y libros."
   ]
  },
  {
   "cell_type": "code",
   "execution_count": null,
   "metadata": {},
   "outputs": [],
   "source": []
  }
 ],
 "metadata": {
  "ExecuteTimeLog": [
   {
    "duration": 9,
    "start_time": "2024-12-05T04:26:38.746Z"
   },
   {
    "duration": 4,
    "start_time": "2024-12-05T04:27:26.247Z"
   },
   {
    "duration": 5,
    "start_time": "2024-12-05T04:29:21.434Z"
   },
   {
    "duration": 412,
    "start_time": "2024-12-05T04:30:46.150Z"
   },
   {
    "duration": 42,
    "start_time": "2024-12-05T04:32:54.207Z"
   },
   {
    "duration": 3,
    "start_time": "2024-12-05T04:33:06.461Z"
   },
   {
    "duration": 5,
    "start_time": "2024-12-05T04:33:40.151Z"
   },
   {
    "duration": 11,
    "start_time": "2024-12-05T04:36:10.288Z"
   },
   {
    "duration": 28,
    "start_time": "2024-12-05T04:36:19.557Z"
   },
   {
    "duration": 10,
    "start_time": "2024-12-05T04:36:27.246Z"
   },
   {
    "duration": 9,
    "start_time": "2024-12-05T04:43:14.385Z"
   },
   {
    "duration": 33,
    "start_time": "2024-12-05T04:43:22.977Z"
   },
   {
    "duration": 9,
    "start_time": "2024-12-05T04:43:33.052Z"
   },
   {
    "duration": 13,
    "start_time": "2024-12-05T04:49:27.248Z"
   },
   {
    "duration": 12,
    "start_time": "2024-12-05T04:49:49.893Z"
   },
   {
    "duration": 4,
    "start_time": "2024-12-05T04:59:27.595Z"
   },
   {
    "duration": 409,
    "start_time": "2024-12-05T05:00:30.459Z"
   },
   {
    "duration": 46,
    "start_time": "2024-12-05T05:00:30.870Z"
   },
   {
    "duration": 12,
    "start_time": "2024-12-05T05:00:30.918Z"
   },
   {
    "duration": 26,
    "start_time": "2024-12-05T05:00:30.932Z"
   },
   {
    "duration": 9,
    "start_time": "2024-12-05T05:00:30.960Z"
   },
   {
    "duration": 12,
    "start_time": "2024-12-05T05:00:30.970Z"
   },
   {
    "duration": 10,
    "start_time": "2024-12-05T05:00:30.984Z"
   },
   {
    "duration": 4,
    "start_time": "2024-12-05T05:00:57.002Z"
   },
   {
    "duration": 38,
    "start_time": "2024-12-05T05:01:05.030Z"
   },
   {
    "duration": 4,
    "start_time": "2024-12-05T05:01:28.476Z"
   },
   {
    "duration": 370,
    "start_time": "2024-12-05T19:32:54.445Z"
   },
   {
    "duration": 58,
    "start_time": "2024-12-05T19:32:54.817Z"
   },
   {
    "duration": 12,
    "start_time": "2024-12-05T19:32:54.877Z"
   },
   {
    "duration": 26,
    "start_time": "2024-12-05T19:32:54.890Z"
   },
   {
    "duration": 9,
    "start_time": "2024-12-05T19:32:54.918Z"
   },
   {
    "duration": 5,
    "start_time": "2024-12-05T19:32:54.930Z"
   },
   {
    "duration": 0,
    "start_time": "2024-12-05T19:32:54.936Z"
   },
   {
    "duration": 3,
    "start_time": "2024-12-05T19:33:09.545Z"
   },
   {
    "duration": 48,
    "start_time": "2024-12-05T19:33:09.551Z"
   },
   {
    "duration": 8,
    "start_time": "2024-12-05T19:33:09.601Z"
   },
   {
    "duration": 27,
    "start_time": "2024-12-05T19:33:09.610Z"
   },
   {
    "duration": 10,
    "start_time": "2024-12-05T19:33:09.639Z"
   },
   {
    "duration": 16,
    "start_time": "2024-12-05T19:33:09.651Z"
   },
   {
    "duration": 13,
    "start_time": "2024-12-05T19:33:09.668Z"
   },
   {
    "duration": 158,
    "start_time": "2024-12-05T21:02:15.532Z"
   },
   {
    "duration": 372,
    "start_time": "2024-12-05T21:03:17.661Z"
   },
   {
    "duration": 54,
    "start_time": "2024-12-05T21:03:18.035Z"
   },
   {
    "duration": 11,
    "start_time": "2024-12-05T21:03:18.091Z"
   },
   {
    "duration": 40,
    "start_time": "2024-12-05T21:03:18.104Z"
   },
   {
    "duration": 11,
    "start_time": "2024-12-05T21:03:18.146Z"
   },
   {
    "duration": 14,
    "start_time": "2024-12-05T21:03:18.159Z"
   },
   {
    "duration": 13,
    "start_time": "2024-12-05T21:03:18.174Z"
   },
   {
    "duration": 13,
    "start_time": "2024-12-05T21:03:18.189Z"
   },
   {
    "duration": 15,
    "start_time": "2024-12-05T21:28:14.052Z"
   },
   {
    "duration": 14,
    "start_time": "2024-12-05T21:33:42.066Z"
   },
   {
    "duration": 16,
    "start_time": "2024-12-05T21:33:53.109Z"
   },
   {
    "duration": 14,
    "start_time": "2024-12-05T21:34:44.135Z"
   },
   {
    "duration": 14,
    "start_time": "2024-12-05T21:34:57.939Z"
   },
   {
    "duration": 382,
    "start_time": "2024-12-06T18:18:03.578Z"
   },
   {
    "duration": 44,
    "start_time": "2024-12-06T18:18:03.962Z"
   },
   {
    "duration": 11,
    "start_time": "2024-12-06T18:18:04.008Z"
   },
   {
    "duration": 26,
    "start_time": "2024-12-06T18:18:04.021Z"
   },
   {
    "duration": 8,
    "start_time": "2024-12-06T18:18:04.050Z"
   },
   {
    "duration": 13,
    "start_time": "2024-12-06T18:18:04.059Z"
   },
   {
    "duration": 12,
    "start_time": "2024-12-06T18:18:04.074Z"
   },
   {
    "duration": 11,
    "start_time": "2024-12-06T18:18:04.088Z"
   },
   {
    "duration": 11,
    "start_time": "2024-12-06T18:18:04.101Z"
   },
   {
    "duration": 162,
    "start_time": "2025-03-03T21:54:10.243Z"
   },
   {
    "duration": 396,
    "start_time": "2025-03-03T21:54:56.801Z"
   },
   {
    "duration": 49,
    "start_time": "2025-03-03T21:54:57.200Z"
   },
   {
    "duration": 11,
    "start_time": "2025-03-03T21:54:57.251Z"
   },
   {
    "duration": 27,
    "start_time": "2025-03-03T21:54:57.264Z"
   },
   {
    "duration": 10,
    "start_time": "2025-03-03T21:54:57.292Z"
   },
   {
    "duration": 13,
    "start_time": "2025-03-03T21:54:57.303Z"
   },
   {
    "duration": 13,
    "start_time": "2025-03-03T21:54:57.318Z"
   },
   {
    "duration": 13,
    "start_time": "2025-03-03T21:54:57.333Z"
   },
   {
    "duration": 14,
    "start_time": "2025-03-03T21:54:57.347Z"
   }
  ],
  "kernelspec": {
   "display_name": "Python 3 (ipykernel)",
   "language": "python",
   "name": "python3"
  },
  "language_info": {
   "codemirror_mode": {
    "name": "ipython",
    "version": 3
   },
   "file_extension": ".py",
   "mimetype": "text/x-python",
   "name": "python",
   "nbconvert_exporter": "python",
   "pygments_lexer": "ipython3",
   "version": "3.9.19"
  },
  "toc": {
   "base_numbering": 1,
   "nav_menu": {},
   "number_sections": true,
   "sideBar": true,
   "skip_h1_title": true,
   "title_cell": "Table of Contents",
   "title_sidebar": "Contents",
   "toc_cell": false,
   "toc_position": {},
   "toc_section_display": true,
   "toc_window_display": false
  }
 },
 "nbformat": 4,
 "nbformat_minor": 2
}
